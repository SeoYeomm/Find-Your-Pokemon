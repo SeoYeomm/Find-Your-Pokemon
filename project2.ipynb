{
  "nbformat": 4,
  "nbformat_minor": 0,
  "metadata": {
    "colab": {
      "provenance": [],
      "gpuType": "T4"
    },
    "kernelspec": {
      "name": "python3",
      "display_name": "Python 3"
    },
    "language_info": {
      "name": "python"
    },
    "accelerator": "GPU"
  },
  "cells": [
    {
      "cell_type": "code",
      "source": [
        "#import shutil\n",
        "#shutil.rmtree('/content/train/')"
      ],
      "metadata": {
        "id": "c2bAzm-GAG2X"
      },
      "execution_count": null,
      "outputs": []
    },
    {
      "cell_type": "code",
      "source": [
        "from google.colab import drive\n",
        "drive.mount('/content/drive')"
      ],
      "metadata": {
        "id": "GtaCuI8IYT0Z",
        "colab": {
          "base_uri": "https://localhost:8080/"
        },
        "outputId": "bdab4441-1a48-4b57-cad5-c74e6d2b87a2"
      },
      "execution_count": null,
      "outputs": [
        {
          "output_type": "stream",
          "name": "stdout",
          "text": [
            "Mounted at /content/drive\n"
          ]
        }
      ]
    },
    {
      "cell_type": "code",
      "source": [
        "!unzip -qq \"/content/drive/MyDrive/pokemon/train.zip\" -d \"/content/train\"\n",
        "!unzip -qq \"/content/drive/MyDrive/pokemon/test.zip\" -d \"/content/test\""
      ],
      "metadata": {
        "id": "L52aqArF9bLy"
      },
      "execution_count": null,
      "outputs": []
    },
    {
      "cell_type": "markdown",
      "source": [
        "# 새 섹션"
      ],
      "metadata": {
        "id": "3KqWU3zoK2al"
      }
    },
    {
      "cell_type": "code",
      "source": [
        "import os\n",
        "import tensorflow as tf\n",
        "from tensorflow import keras\n",
        "from tensorflow.keras import models\n",
        "from tensorflow.keras.preprocessing.image import ImageDataGenerator\n",
        "from tensorflow.keras.models import Sequential\n",
        "from tensorflow.keras.layers import Input, Conv2D, Flatten, MaxPool2D, Dense, ReLU, BatchNormalization, Add, Dropout, GlobalAveragePooling2D\n",
        "from tensorflow.keras.datasets import mnist\n",
        "from tensorflow.keras.applications.mobilenet import MobileNet\n",
        "from tensorflow import pad\n",
        "import matplotlib.pyplot as plt\n",
        "from tensorflow.keras import Model\n",
        "from PIL import Image\n",
        "import os\n",
        "\n",
        "# 포켓몬 이미지가 저장된 기본 디렉토리\n",
        "base_dir = '/content'\n",
        "\n",
        "# Image data generator with some data augmentation\n",
        "train_datagen = ImageDataGenerator(rescale=1./255, rotation_range=40, width_shift_range=0.2, height_shift_range=0.2, shear_range=0.2, zoom_range=0.2, horizontal_flip=True, fill_mode='nearest')\n",
        "test_datagen = ImageDataGenerator(rescale=1./255, rotation_range=40, width_shift_range=0.2, height_shift_range=0.2, shear_range=0.2, zoom_range=0.2, horizontal_flip=True, fill_mode='nearest')\n",
        "\n",
        "# Flow training images in batches\n",
        "train_generator = train_datagen.flow_from_directory(base_dir + \"/train\", target_size=(150, 150), batch_size=32, class_mode='categorical')\n",
        "test_generator = test_datagen.flow_from_directory(base_dir + \"/test\", target_size=(150, 150), batch_size=32, class_mode='categorical')\n",
        "\n",
        "base_model = MobileNet(include_top=False, weights='imagenet', input_shape=(150, 150, 3))\n",
        "\n",
        "model = tf.keras.models.Sequential([\n",
        "    base_model,\n",
        "    Flatten(),\n",
        "    Dropout(0.5),\n",
        "    Dense(512, activation='relu'),\n",
        "    Dense(train_generator.num_classes, activation='softmax')\n",
        "])\n",
        "\n",
        "# 모델 컴파일\n",
        "model.compile(optimizer='adam', loss='categorical_crossentropy', metrics=['accuracy'])\n",
        "\n",
        "# 훈련\n",
        "history = model.fit(train_generator, epochs=5)\n",
        "\n"
      ],
      "metadata": {
        "colab": {
          "base_uri": "https://localhost:8080/"
        },
        "id": "elZffqi_cK17",
        "outputId": "32e8dfad-a8f5-4ded-fd6b-051c93230f56"
      },
      "execution_count": null,
      "outputs": [
        {
          "output_type": "stream",
          "name": "stdout",
          "text": [
            "Found 1329 images belonging to 20 classes.\n",
            "Found 2200 images belonging to 151 classes.\n"
          ]
        },
        {
          "output_type": "stream",
          "name": "stderr",
          "text": [
            "WARNING:tensorflow:`input_shape` is undefined or non-square, or `rows` is not in [128, 160, 192, 224]. Weights for input shape (224, 224) will be loaded as the default.\n"
          ]
        },
        {
          "output_type": "stream",
          "name": "stdout",
          "text": [
            "Downloading data from https://storage.googleapis.com/tensorflow/keras-applications/mobilenet/mobilenet_1_0_224_tf_no_top.h5\n",
            "17225924/17225924 [==============================] - 1s 0us/step\n",
            "Epoch 1/5\n",
            "20/42 [=============>................] - ETA: 9s - loss: 8.5920 - accuracy: 0.2976 "
          ]
        },
        {
          "output_type": "stream",
          "name": "stderr",
          "text": [
            "/usr/local/lib/python3.10/dist-packages/PIL/Image.py:996: UserWarning: Palette images with Transparency expressed in bytes should be converted to RGBA images\n",
            "  warnings.warn(\n"
          ]
        },
        {
          "output_type": "stream",
          "name": "stdout",
          "text": [
            "42/42 [==============================] - 46s 498ms/step - loss: 4.8519 - accuracy: 0.4447\n",
            "Epoch 2/5\n",
            "42/42 [==============================] - 21s 512ms/step - loss: 0.9427 - accuracy: 0.7299\n",
            "Epoch 3/5\n",
            "42/42 [==============================] - 23s 554ms/step - loss: 0.6161 - accuracy: 0.8269\n",
            "Epoch 4/5\n",
            "42/42 [==============================] - 22s 534ms/step - loss: 0.5038 - accuracy: 0.8457\n",
            "Epoch 5/5\n",
            "42/42 [==============================] - 23s 544ms/step - loss: 0.4322 - accuracy: 0.8751\n"
          ]
        }
      ]
    },
    {
      "cell_type": "code",
      "source": [
        "model.summary()"
      ],
      "metadata": {
        "colab": {
          "base_uri": "https://localhost:8080/"
        },
        "id": "SyhjhM7zVGq8",
        "outputId": "e314229d-8e28-49c3-c499-06afefd10783"
      },
      "execution_count": null,
      "outputs": [
        {
          "output_type": "stream",
          "name": "stdout",
          "text": [
            "Model: \"sequential_2\"\n",
            "_________________________________________________________________\n",
            " Layer (type)                Output Shape              Param #   \n",
            "=================================================================\n",
            " mobilenet_1.00_224 (Functi  (None, 4, 4, 1024)        3228864   \n",
            " onal)                                                           \n",
            "                                                                 \n",
            " flatten_2 (Flatten)         (None, 16384)             0         \n",
            "                                                                 \n",
            " dropout_2 (Dropout)         (None, 16384)             0         \n",
            "                                                                 \n",
            " dense_5 (Dense)             (None, 512)               8389120   \n",
            "                                                                 \n",
            " dense_6 (Dense)             (None, 20)                10260     \n",
            "                                                                 \n",
            "=================================================================\n",
            "Total params: 11628244 (44.36 MB)\n",
            "Trainable params: 11606356 (44.27 MB)\n",
            "Non-trainable params: 21888 (85.50 KB)\n",
            "_________________________________________________________________\n"
          ]
        }
      ]
    },
    {
      "cell_type": "code",
      "source": [
        "print(train_generator.class_indices)"
      ],
      "metadata": {
        "id": "CvNXqFrEde3D",
        "colab": {
          "base_uri": "https://localhost:8080/"
        },
        "outputId": "6fa6f8a4-1442-4812-897c-0e1e7aadb6b4"
      },
      "execution_count": null,
      "outputs": [
        {
          "output_type": "stream",
          "name": "stdout",
          "text": [
            "{'1': 0, '10': 1, '16': 2, '19': 3, '21': 4, '23': 5, '25': 6, '27': 7, '35': 8, '37': 9, '39': 10, '4': 11, '41': 12, '43': 13, '50': 14, '52': 15, '54': 16, '58': 17, '66': 18, '7': 19}\n"
          ]
        }
      ]
    },
    {
      "cell_type": "code",
      "source": [
        "import sklearn\n",
        "import tensorflow as tf\n",
        "import numpy as np\n",
        "from sklearn.metrics import accuracy_score, confusion_matrix, classification_report\n",
        "import matplotlib.pyplot as plt\n",
        "import seaborn as sns\n",
        "\n",
        "\n",
        "# 모델 테스트\n",
        "test_loss, test_accuracy = model.evaluate(test_generator) # test_generator\n",
        "print(f\"Test Accuracy: {test_accuracy * 100:.2f}%\")\n",
        "'''\n",
        "# Visualize loss and accuracy\n",
        "plt.figure(figsize=(12, 4))\n",
        "\n",
        "# Loss plot\n",
        "plt.subplot(1, 2, 1)\n",
        "plt.plot(history.history['loss'], label='Training Loss')\n",
        "plt.title('Training Loss')\n",
        "plt.xlabel('Epochs')\n",
        "plt.ylabel('Loss')\n",
        "plt.legend()\n",
        "\n",
        "plt.show()\n",
        "'''"
      ],
      "metadata": {
        "id": "0ChrY0CFQeM_",
        "colab": {
          "base_uri": "https://localhost:8080/",
          "height": 92
        },
        "outputId": "3afcc506-06e1-4afa-e3fc-e2c4890dae69"
      },
      "execution_count": null,
      "outputs": [
        {
          "output_type": "stream",
          "name": "stdout",
          "text": [
            "7/7 [==============================] - 8s 1s/step - loss: 4.8279 - accuracy: 0.2740\n",
            "Test Accuracy: 27.40%\n"
          ]
        },
        {
          "output_type": "execute_result",
          "data": {
            "text/plain": [
              "\"\\n# Visualize loss and accuracy\\nplt.figure(figsize=(12, 4))\\n\\n# Loss plot\\nplt.subplot(1, 2, 1)\\nplt.plot(history.history['loss'], label='Training Loss')\\nplt.title('Training Loss')\\nplt.xlabel('Epochs')\\nplt.ylabel('Loss')\\nplt.legend()\\n\\nplt.show()\\n\""
            ],
            "application/vnd.google.colaboratory.intrinsic+json": {
              "type": "string"
            }
          },
          "metadata": {},
          "execution_count": 19
        }
      ]
    },
    {
      "cell_type": "code",
      "source": [
        "import numpy as np\n",
        "from tensorflow.keras.preprocessing.image import load_img, img_to_array\n",
        "from google.colab import files\n",
        "\n",
        "# 입력 이미지 업로드\n",
        "uploaded_test_images = files.upload()\n",
        "\n",
        "# 업로드한 이미지 파일명 가져오기\n",
        "test_image_name = list(uploaded_test_images.keys())[0]  # 첫 번째 업로드한 이미지 이름\n",
        "\n",
        "# 이미지 로드 및 사이즈 조정\n",
        "test_image = load_img(test_image_name, target_size=(150, 150))\n",
        "test_image = img_to_array(test_image)\n",
        "test_image = np.expand_dims(test_image, axis=0)\n",
        "\n",
        "# 클래스 예측\n",
        "result = model.predict(test_image)\n",
        "print(result)\n",
        "predicted_class = np.argmax(result, axis=1)\n",
        "print(predicted_class)\n",
        "\n",
        "# 해당 클래스의 레이블 가져오기\n",
        "label_map = train_generator.class_indices\n",
        "predicted_label = list(label_map.keys())[list(label_map.values()).index(predicted_class)]"
      ],
      "metadata": {
        "id": "WT0PFTFwcOjb",
        "colab": {
          "base_uri": "https://localhost:8080/",
          "height": 41
        },
        "outputId": "ef9fa497-8bfb-49f7-d139-bde5cf5cb306"
      },
      "execution_count": null,
      "outputs": [
        {
          "data": {
            "text/html": [
              "\n",
              "     <input type=\"file\" id=\"files-292f7774-a049-40a3-ba6a-bb04d842a6fb\" name=\"files[]\" multiple disabled\n",
              "        style=\"border:none\" />\n",
              "     <output id=\"result-292f7774-a049-40a3-ba6a-bb04d842a6fb\">\n",
              "      Upload widget is only available when the cell has been executed in the\n",
              "      current browser session. Please rerun this cell to enable.\n",
              "      </output>\n",
              "      <script>// Copyright 2017 Google LLC\n",
              "//\n",
              "// Licensed under the Apache License, Version 2.0 (the \"License\");\n",
              "// you may not use this file except in compliance with the License.\n",
              "// You may obtain a copy of the License at\n",
              "//\n",
              "//      http://www.apache.org/licenses/LICENSE-2.0\n",
              "//\n",
              "// Unless required by applicable law or agreed to in writing, software\n",
              "// distributed under the License is distributed on an \"AS IS\" BASIS,\n",
              "// WITHOUT WARRANTIES OR CONDITIONS OF ANY KIND, either express or implied.\n",
              "// See the License for the specific language governing permissions and\n",
              "// limitations under the License.\n",
              "\n",
              "/**\n",
              " * @fileoverview Helpers for google.colab Python module.\n",
              " */\n",
              "(function(scope) {\n",
              "function span(text, styleAttributes = {}) {\n",
              "  const element = document.createElement('span');\n",
              "  element.textContent = text;\n",
              "  for (const key of Object.keys(styleAttributes)) {\n",
              "    element.style[key] = styleAttributes[key];\n",
              "  }\n",
              "  return element;\n",
              "}\n",
              "\n",
              "// Max number of bytes which will be uploaded at a time.\n",
              "const MAX_PAYLOAD_SIZE = 100 * 1024;\n",
              "\n",
              "function _uploadFiles(inputId, outputId) {\n",
              "  const steps = uploadFilesStep(inputId, outputId);\n",
              "  const outputElement = document.getElementById(outputId);\n",
              "  // Cache steps on the outputElement to make it available for the next call\n",
              "  // to uploadFilesContinue from Python.\n",
              "  outputElement.steps = steps;\n",
              "\n",
              "  return _uploadFilesContinue(outputId);\n",
              "}\n",
              "\n",
              "// This is roughly an async generator (not supported in the browser yet),\n",
              "// where there are multiple asynchronous steps and the Python side is going\n",
              "// to poll for completion of each step.\n",
              "// This uses a Promise to block the python side on completion of each step,\n",
              "// then passes the result of the previous step as the input to the next step.\n",
              "function _uploadFilesContinue(outputId) {\n",
              "  const outputElement = document.getElementById(outputId);\n",
              "  const steps = outputElement.steps;\n",
              "\n",
              "  const next = steps.next(outputElement.lastPromiseValue);\n",
              "  return Promise.resolve(next.value.promise).then((value) => {\n",
              "    // Cache the last promise value to make it available to the next\n",
              "    // step of the generator.\n",
              "    outputElement.lastPromiseValue = value;\n",
              "    return next.value.response;\n",
              "  });\n",
              "}\n",
              "\n",
              "/**\n",
              " * Generator function which is called between each async step of the upload\n",
              " * process.\n",
              " * @param {string} inputId Element ID of the input file picker element.\n",
              " * @param {string} outputId Element ID of the output display.\n",
              " * @return {!Iterable<!Object>} Iterable of next steps.\n",
              " */\n",
              "function* uploadFilesStep(inputId, outputId) {\n",
              "  const inputElement = document.getElementById(inputId);\n",
              "  inputElement.disabled = false;\n",
              "\n",
              "  const outputElement = document.getElementById(outputId);\n",
              "  outputElement.innerHTML = '';\n",
              "\n",
              "  const pickedPromise = new Promise((resolve) => {\n",
              "    inputElement.addEventListener('change', (e) => {\n",
              "      resolve(e.target.files);\n",
              "    });\n",
              "  });\n",
              "\n",
              "  const cancel = document.createElement('button');\n",
              "  inputElement.parentElement.appendChild(cancel);\n",
              "  cancel.textContent = 'Cancel upload';\n",
              "  const cancelPromise = new Promise((resolve) => {\n",
              "    cancel.onclick = () => {\n",
              "      resolve(null);\n",
              "    };\n",
              "  });\n",
              "\n",
              "  // Wait for the user to pick the files.\n",
              "  const files = yield {\n",
              "    promise: Promise.race([pickedPromise, cancelPromise]),\n",
              "    response: {\n",
              "      action: 'starting',\n",
              "    }\n",
              "  };\n",
              "\n",
              "  cancel.remove();\n",
              "\n",
              "  // Disable the input element since further picks are not allowed.\n",
              "  inputElement.disabled = true;\n",
              "\n",
              "  if (!files) {\n",
              "    return {\n",
              "      response: {\n",
              "        action: 'complete',\n",
              "      }\n",
              "    };\n",
              "  }\n",
              "\n",
              "  for (const file of files) {\n",
              "    const li = document.createElement('li');\n",
              "    li.append(span(file.name, {fontWeight: 'bold'}));\n",
              "    li.append(span(\n",
              "        `(${file.type || 'n/a'}) - ${file.size} bytes, ` +\n",
              "        `last modified: ${\n",
              "            file.lastModifiedDate ? file.lastModifiedDate.toLocaleDateString() :\n",
              "                                    'n/a'} - `));\n",
              "    const percent = span('0% done');\n",
              "    li.appendChild(percent);\n",
              "\n",
              "    outputElement.appendChild(li);\n",
              "\n",
              "    const fileDataPromise = new Promise((resolve) => {\n",
              "      const reader = new FileReader();\n",
              "      reader.onload = (e) => {\n",
              "        resolve(e.target.result);\n",
              "      };\n",
              "      reader.readAsArrayBuffer(file);\n",
              "    });\n",
              "    // Wait for the data to be ready.\n",
              "    let fileData = yield {\n",
              "      promise: fileDataPromise,\n",
              "      response: {\n",
              "        action: 'continue',\n",
              "      }\n",
              "    };\n",
              "\n",
              "    // Use a chunked sending to avoid message size limits. See b/62115660.\n",
              "    let position = 0;\n",
              "    do {\n",
              "      const length = Math.min(fileData.byteLength - position, MAX_PAYLOAD_SIZE);\n",
              "      const chunk = new Uint8Array(fileData, position, length);\n",
              "      position += length;\n",
              "\n",
              "      const base64 = btoa(String.fromCharCode.apply(null, chunk));\n",
              "      yield {\n",
              "        response: {\n",
              "          action: 'append',\n",
              "          file: file.name,\n",
              "          data: base64,\n",
              "        },\n",
              "      };\n",
              "\n",
              "      let percentDone = fileData.byteLength === 0 ?\n",
              "          100 :\n",
              "          Math.round((position / fileData.byteLength) * 100);\n",
              "      percent.textContent = `${percentDone}% done`;\n",
              "\n",
              "    } while (position < fileData.byteLength);\n",
              "  }\n",
              "\n",
              "  // All done.\n",
              "  yield {\n",
              "    response: {\n",
              "      action: 'complete',\n",
              "    }\n",
              "  };\n",
              "}\n",
              "\n",
              "scope.google = scope.google || {};\n",
              "scope.google.colab = scope.google.colab || {};\n",
              "scope.google.colab._files = {\n",
              "  _uploadFiles,\n",
              "  _uploadFilesContinue,\n",
              "};\n",
              "})(self);\n",
              "</script> "
            ],
            "text/plain": [
              "<IPython.core.display.HTML object>"
            ]
          },
          "metadata": {},
          "output_type": "display_data"
        }
      ]
    },
    {
      "cell_type": "code",
      "source": [
        "print(train_generator.classes)"
      ],
      "metadata": {
        "id": "Djehdl13cV5i"
      },
      "execution_count": null,
      "outputs": []
    },
    {
      "cell_type": "code",
      "source": [
        "import pandas as pd\n",
        "# 구글 드라이브 csv 파일 경로 파싱\n",
        "url = \"https://drive.google.com/file/d/10ohxV2CbKEgCYgDS1tGlyqsYbMGaxmSK/view?usp=sharing\"\n",
        "path='https://drive.google.com/uc?id='+url.split('/')[-2]\n",
        "\n",
        "# 포켓몬 CSV 파일 읽고 정보 추출\n",
        "try:\n",
        "    pokemon_df = pd.read_csv(path)\n",
        "except UnicodeDecodeError:\n",
        "    pokemon_df = pd.read_csv(path, encoding='ISO-8859-1')  # 엑셀 파일 깨짐 해결 encoding='ISO-8859-1'\n",
        "\n",
        "# 예측된 클래스 번호를 기반으로 포켓몬 정보 찾기\n",
        "predicted_label = predicted_class[0]\n",
        "generator_class = train_generator.class_indices\n",
        "predicted_no = int(str([key for key, value in generator_class.items() if value == predicted_label][0]))\n",
        "predicted_pokemon_info = pokemon_df[pokemon_df['No.'] == predicted_no].iloc[0]\n",
        "\n",
        "# 예측 확률 계산\n",
        "predicted_probability = np.max(result) * 100\n",
        "\n",
        "# Type1 및 Type2 정보 가져오기 (없는 경우 'None'으로 처리)\n",
        "type1 = predicted_pokemon_info['type_1'] if not pd.isna(predicted_pokemon_info['type_1']) else 'None'\n",
        "type2 = predicted_pokemon_info['type_2'] if not pd.isna(predicted_pokemon_info['type_2']) else 'None'\n",
        "\n",
        "# 결과 출력\n",
        "print(f\"{predicted_probability:.2f}% 확률로 {predicted_no}번 포켓몬 \\\"{predicted_pokemon_info['name']}\\\"이고, Type1은 \\\"{type1}\\\"이고, Type2는 \\\"{type2}\\\"입니다.\")"
      ],
      "metadata": {
        "id": "7QjnH1LscR3E",
        "colab": {
          "base_uri": "https://localhost:8080/"
        },
        "outputId": "98976f38-19da-448f-95da-9cc47085fe92"
      },
      "execution_count": null,
      "outputs": [
        {
          "output_type": "stream",
          "name": "stdout",
          "text": [
            "73.76% 확률로 4번 포켓몬 \"Charmander\"이고, Type1은 \"Fire\"이고, Type2는 \"None\"입니다.\n"
          ]
        }
      ]
    }
  ]
}